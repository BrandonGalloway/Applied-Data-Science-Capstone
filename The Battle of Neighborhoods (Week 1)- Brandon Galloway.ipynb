{
 "cells": [
  {
   "cell_type": "markdown",
   "metadata": {},
   "source": [
    "# The Battle of Neighborhoods (Week 1)  \n",
    "- Brandon Galloway  \n",
    "\n",
    "Thanks for reviewing my assignment!"
   ]
  },
  {
   "cell_type": "markdown",
   "metadata": {},
   "source": [
    "# Program Description and Background  \n",
    "The problem I aim to solve with this project is: \n",
    "\n",
    "**\"given a business category, can we predict the best neighborhood in Chicago to open a business of that type?\"**  \n",
    "\n",
    "I chose to target the Chicago region because I have lived in the area for over 10 years now and have good knowledge of the external factors that may influence data. My goal is to specifically target a new business, analyzing factors that may help or halt small business growth in each neighborhood.  \n",
    "\n",
    "The audience for this proposed system are entrepreneurs that seek to start a small business of some type in the city of Chicago. This tool has great potential to decrease risk for aspiring entrepreneurs in the Chicago area which would serve to help encourage small buisness ownership and investment into chicago communities. Using foursquare data combined with government datasets on various aspects of businesses in Chicago, the analysis will be able to accurately predict the business environment of neighborhoods within the city of Chicago."
   ]
  },
  {
   "cell_type": "markdown",
   "metadata": {},
   "source": [
    "# Data Description and Usage Plan  \n",
    "I plan to leverage several key data-sets listed below to obtain a strong underlying knowledge base for the predictive logic.  \n",
    "\n",
    "#### 1.The main data-source for this project will be the Foursquare API  \n",
    "\n",
    "This dataset will allow us to leverage details about the most visited businesses in a specific area along with insights into the business makeup of a specific neighborhood.\n",
    "\n",
    "This Data-source can be found at: [Source](https://developer.foursquare.com/)\n",
    "\n",
    "#### 2. Chicago Business Data from the United States Census Bureau  \n",
    "\n",
    "This dataset contains data about each neighborhood of Chicago's businesses, including the amount of business of any particular business category and their respective size. This data will give core insights into business saturation for any particular neighborhood.  \n",
    "\n",
    "This Data-source can be found at: [Source](https://www.census.gov/data/datasets/2016/econ/cbp/2016-cbp.html)  \n",
    "\n",
    "#### 3. Chicago Neighborhood Data from Mongabay.com  \n",
    "\n",
    "This Data-source details each neighborhood of Chicago along with minors details about them. It will be leveraged as a sort of primary-key-set to link the other Data-sets and bring in human readable descriptions. \n",
    "\n",
    "This Data-source can be found at: [Source]( https://data.mongabay.com/igapo/zip_codes/metropolitan-areas/metro-zip/Chicago%20(IL\)1.html)  \n",
    "\n",
    "#### 4. Chicago Geojson Data  \n",
    "\n",
    "This Data-set will be used to format Folium maps and allow end users to experience our data outcomes in a functional and easy-to-understand format. It contains the boundaries for the neighborhoods analysed.\n",
    "\n",
    "This Data-source can be found at: [Source](https://github.com/blackmad/neighborhoods/blob/master/chicago.geojson)"
   ]
  },
  {
   "cell_type": "markdown",
   "metadata": {},
   "source": [
    "# Conclusion  \n",
    "\n",
    "This assignment should be able to leverage key concepts of data-science to help those looking to start a small business mitigate the risk of operating in the city of Chicago."
   ]
  }
 ],
 "metadata": {
  "kernelspec": {
   "display_name": "Python 3",
   "language": "python",
   "name": "python3"
  },
  "language_info": {
   "codemirror_mode": {
    "name": "ipython",
    "version": 3
   },
   "file_extension": ".py",
   "mimetype": "text/x-python",
   "name": "python",
   "nbconvert_exporter": "python",
   "pygments_lexer": "ipython3",
   "version": "3.7.1"
  }
 },
 "nbformat": 4,
 "nbformat_minor": 2
}
